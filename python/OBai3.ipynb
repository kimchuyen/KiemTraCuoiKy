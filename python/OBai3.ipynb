{
 "cells": [
  {
   "cell_type": "code",
   "execution_count": 24,
   "metadata": {},
   "outputs": [
    {
     "name": "stdout",
     "output_type": "stream",
     "text": [
      "bài 1: Lãi suất hàng tháng là: 60.0\n",
      "bai2:\n",
      "Tên: Thân Thị Chuyên\n",
      "Ngày sinh: 12/12/1995\n",
      "Mail: abc@gmail.com\n",
      "Số điện thoai: 098678987\n",
      "bai 3: 123123 - Chuyen owner- 200000000\n"
     ]
    }
   ],
   "source": [
    "class BankAccount:\n",
    "    def __init__(self, account_number,account_name, balance):\n",
    "        self._account_number = account_number\n",
    "        self._account_name= account_name\n",
    "        self._balance= balance\n",
    "        \n",
    "    @property\n",
    "    def account_number(self):\n",
    "        return self._account_number\n",
    "\n",
    "    @property\n",
    "    def account_name(self):\n",
    "        return self._account_name\n",
    "\n",
    "    @property\n",
    "    def balance(self):\n",
    "        return self._balance\n",
    "\n",
    "    def display(self):\n",
    "        print(f\"{self.account_number} - {self.account_name}- {self.balance}\")\n",
    "\n",
    "    @balance.setter    \n",
    "    def rate(self):\n",
    "        return self.rate\n",
    "    @property\n",
    "    def date_OB(self):\n",
    "        return self.date_OB\n",
    "    @property\n",
    "    def mail(self):\n",
    "        return self.mail\n",
    "    @property\n",
    "    def phone(self):\n",
    "        return self.phone\n",
    "    \n",
    "## 1.1. Hiển thị thông tin lãi suất ngân hàng \n",
    "class SavingAccount(BankAccount):\n",
    "    rate = 0.005\n",
    "    def calculate(self):\n",
    "        print(\"bài 1: Lãi suất hàng tháng là:\",self.balance * self.rate)\n",
    "    \n",
    "bon = SavingAccount(20000,'Chuyen',12000)\n",
    "bon.calculate()\n",
    "### 1.2 Hiển thị thông tin customer\n",
    "class customer(BankAccount):\n",
    "    date_OB = '12/12/1995'\n",
    "    mail = 'abc@gmail.com'\n",
    "    phone = '098678987'\n",
    "    def get_info(self):\n",
    "        print(\"bai2:\")\n",
    "        print(\"Tên:\",self.account_name) \n",
    "        print(\"Ngày sinh:\",self.date_OB )\n",
    "        print( \"Mail:\", self.mail)\n",
    "        print( \"Số điện thoai:\", self.phone)\n",
    "a = customer(2000,'Thân Thị Chuyên', 20000)\n",
    "a.get_info()\n",
    "## 1.3 thay đổi class BankAccount \n",
    "class owner(BankAccount):\n",
    "    name = \"Chuyen owner\"\n",
    "    @property\n",
    "    def account_name(self):\n",
    "        return self.name\n",
    "    def display(self):\n",
    "        print(\"bai 3:\",f\"{self.account_number} - {self.name}- {self.balance}\")\n",
    "ab = owner(123123,'', 200000000)\n",
    "ab.display()"
   ]
  },
  {
   "cell_type": "code",
   "execution_count": null,
   "metadata": {},
   "outputs": [],
   "source": []
  },
  {
   "cell_type": "markdown",
   "metadata": {},
   "source": []
  }
 ],
 "metadata": {
  "interpreter": {
   "hash": "04635d289a519a1410467dd0afb0db42f9184808881ca68b2eb5a687a20a5a94"
  },
  "kernelspec": {
   "display_name": "Python 3.7.8 64-bit",
   "name": "python3"
  },
  "language_info": {
   "codemirror_mode": {
    "name": "ipython",
    "version": 3
   },
   "file_extension": ".py",
   "mimetype": "text/x-python",
   "name": "python",
   "nbconvert_exporter": "python",
   "pygments_lexer": "ipython3",
   "version": "3.7.8"
  },
  "orig_nbformat": 4
 },
 "nbformat": 4,
 "nbformat_minor": 2
}
