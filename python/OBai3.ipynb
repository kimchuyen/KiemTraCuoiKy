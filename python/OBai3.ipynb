{
 "cells": [
  {
   "cell_type": "code",
   "execution_count": 24,
   "source": [
    "class BankAccount:\r\n",
    "    def __init__(self, account_number,account_name, balance):\r\n",
    "        self._account_number = account_number\r\n",
    "        self._account_name= account_name\r\n",
    "        self._balance= balance\r\n",
    "        \r\n",
    "    @property\r\n",
    "    def account_number(self):\r\n",
    "        return self._account_number\r\n",
    "\r\n",
    "    @property\r\n",
    "    def account_name(self):\r\n",
    "        return self._account_name\r\n",
    "\r\n",
    "    @property\r\n",
    "    def balance(self):\r\n",
    "        return self._balance\r\n",
    "\r\n",
    "    def display(self):\r\n",
    "        print(f\"{self.account_number} - {self.account_name}- {self.balance}\")\r\n",
    "\r\n",
    "    @balance.setter    \r\n",
    "    def rate(self):\r\n",
    "        return self.rate\r\n",
    "    @property\r\n",
    "    def date_OB(self):\r\n",
    "        return self.date_OB\r\n",
    "    @property\r\n",
    "    def mail(self):\r\n",
    "        return self.mail\r\n",
    "    @property\r\n",
    "    def phone(self):\r\n",
    "        return self.phone\r\n",
    "    \r\n",
    "## 1.1. Hiển thị thông tin lãi suất ngân hàng \r\n",
    "class SavingAccount(BankAccount):\r\n",
    "    rate = 0.005\r\n",
    "    def calculate(self):\r\n",
    "        print(\"bài 1: Lãi suất hàng tháng là:\",self.balance * self.rate)\r\n",
    "    \r\n",
    "bon = SavingAccount(20000,'Chuyen',12000)\r\n",
    "bon.calculate()\r\n",
    "### 1.2 Hiển thị thông tin customer\r\n",
    "class customer(BankAccount):\r\n",
    "    date_OB = '12/12/1995'\r\n",
    "    mail = 'abc@gmail.com'\r\n",
    "    phone = '098678987'\r\n",
    "    def get_info(self):\r\n",
    "        print(\"bai2:\")\r\n",
    "        print(\"Tên:\",self.account_name) \r\n",
    "        print(\"Ngày sinh:\",self.date_OB )\r\n",
    "        print( \"Mail:\", self.mail)\r\n",
    "        print( \"Số điện thoai:\", self.phone)\r\n",
    "a = customer(2000,'Thân Thị Chuyên', 20000)\r\n",
    "a.get_info()\r\n",
    "## 1.3 thay đổi class BankAccount thành _owner\r\n",
    "class owner(BankAccount):\r\n",
    "    name = \"Chuyen owner\"\r\n",
    "    @property\r\n",
    "    def account_name(self):\r\n",
    "        return self.name\r\n",
    "    def display(self):\r\n",
    "        print(\"bai 3:\",f\"{self.account_number} - {self.name}- {self.balance}\")\r\n",
    "ab = owner(123123,'', 200000000)\r\n",
    "ab.display()"
   ],
   "outputs": [
    {
     "output_type": "stream",
     "name": "stdout",
     "text": [
      "bài 1: Lãi suất hàng tháng là: 60.0\n",
      "bai2:\n",
      "Tên: Thân Thị Chuyên\n",
      "Ngày sinh: 12/12/1995\n",
      "Mail: abc@gmail.com\n",
      "Số điện thoai: 098678987\n",
      "bai 3: 123123 - Chuyen owner- 200000000\n"
     ]
    }
   ],
   "metadata": {}
  },
  {
   "cell_type": "code",
   "execution_count": null,
   "source": [],
   "outputs": [],
   "metadata": {}
  },
  {
   "cell_type": "markdown",
   "source": [],
   "metadata": {}
  }
 ],
 "metadata": {
  "orig_nbformat": 4,
  "language_info": {
   "name": "python",
   "version": "3.7.8",
   "mimetype": "text/x-python",
   "codemirror_mode": {
    "name": "ipython",
    "version": 3
   },
   "pygments_lexer": "ipython3",
   "nbconvert_exporter": "python",
   "file_extension": ".py"
  },
  "kernelspec": {
   "name": "python3",
   "display_name": "Python 3.7.8 64-bit"
  },
  "interpreter": {
   "hash": "04635d289a519a1410467dd0afb0db42f9184808881ca68b2eb5a687a20a5a94"
  }
 },
 "nbformat": 4,
 "nbformat_minor": 2
}