{
 "cells": [
  {
   "cell_type": "code",
   "execution_count": 22,
   "source": [
    "class BankAccount:\r\n",
    "    def set_details(self, account_number, account_name, balance=0):\r\n",
    "        self.account_number = account_number\r\n",
    "        self.account_name = account_name\r\n",
    "        self.balance = balance\r\n",
    "\r\n",
    "    def display(self):\r\n",
    "        print(self.account_number, self.account_name, self.balance, \"₫\")\r\n",
    "test= BankAccount()\r\n",
    "test.set_details(12000,'chuyen',200000)\r\n",
    "test.display()\r\n",
    "    "
   ],
   "outputs": [
    {
     "output_type": "stream",
     "name": "stdout",
     "text": [
      "12000 chuyen 200000 ₫\n"
     ]
    }
   ],
   "metadata": {}
  },
  {
   "cell_type": "code",
   "execution_count": 43,
   "source": [
    "# chuyển về thuộc tính ẩn\r\n",
    "class BankAccount2:\r\n",
    "    def __init__(self, account_number,account_name, balance):\r\n",
    "        self._account_number = account_number\r\n",
    "        self._account_name= account_name\r\n",
    "        self._balance= balance\r\n",
    "\r\n",
    "    def get_account_number(self):\r\n",
    "        return self._account_number\r\n",
    "\r\n",
    "    def get_account_name(self):\r\n",
    "        return self._account_name\r\n",
    "\r\n",
    "    def get_balance(self):\r\n",
    "        return self._balance\r\n",
    "\r\n",
    "    def set_balance(self):\r\n",
    "        return self._balance\r\n",
    "    \r\n",
    "    def withdraw(self, amount):\r\n",
    "        if( self.set_balance() - amount >0  ):\r\n",
    "            print(\"withdraw hop le\")\r\n",
    "        else:\r\n",
    "            print(\"withdraw không hợp lệ\")\r\n",
    "\r\n",
    "    def deposit(self, amount):\r\n",
    "        if(amount >0):\r\n",
    "            print (\"deposit hop le\")\r\n",
    "        else:\r\n",
    "            print(\"deposit khong hop le\")\r\n",
    "\r\n",
    "    def display(self):\r\n",
    "        print(f\"{self.get_account_number()} - {self.get_account_name()}- {self.get_balance()}\")\r\n",
    "\r\n",
    "bon = BankAccount2(20000,'Chuyen',12000)\r\n",
    "bon.display()\r\n",
    "bon.withdraw(3000)\r\n",
    "bon.deposit(200)\r\n"
   ],
   "outputs": [
    {
     "output_type": "stream",
     "name": "stdout",
     "text": [
      "20000 - Chuyen- 12000\n",
      "withdraw hop le\n",
      "deposit hop le\n"
     ]
    }
   ],
   "metadata": {}
  },
  {
   "cell_type": "code",
   "execution_count": null,
   "source": [],
   "outputs": [],
   "metadata": {}
  }
 ],
 "metadata": {
  "orig_nbformat": 4,
  "language_info": {
   "name": "python",
   "version": "3.7.8",
   "mimetype": "text/x-python",
   "codemirror_mode": {
    "name": "ipython",
    "version": 3
   },
   "pygments_lexer": "ipython3",
   "nbconvert_exporter": "python",
   "file_extension": ".py"
  },
  "kernelspec": {
   "name": "python3",
   "display_name": "Python 3.7.8 64-bit"
  },
  "interpreter": {
   "hash": "04635d289a519a1410467dd0afb0db42f9184808881ca68b2eb5a687a20a5a94"
  }
 },
 "nbformat": 4,
 "nbformat_minor": 2
}