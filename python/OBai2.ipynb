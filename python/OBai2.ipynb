{
 "cells": [
  {
   "cell_type": "code",
   "execution_count": 50,
   "metadata": {},
   "outputs": [
    {
     "name": "stdout",
     "output_type": "stream",
     "text": [
      "| Number    | Account Name    | Balance         |\n",
      "|-----------|-----------------|-----------------|\n",
      "| 1         | Ba Nguyễn       |      1000000000 |\n",
      "| 2         | Béo Ú           |      2000000000 |\n",
      "\n"
     ]
    }
   ],
   "source": [
    "# bài 1\n",
    "import json\n",
    "\n",
    "json_file = \"bank_accounts.json\"\n",
    "\n",
    "class BankAccount:\n",
    "    def __init__(self, account_number, account_name, balance=0):\n",
    "        self._account_number = account_number\n",
    "        self._account_name = account_name\n",
    "        self.balance = balance\n",
    "\n",
    "    @property\n",
    "    def account_number(self):\n",
    "        return self._account_number\n",
    "\n",
    "    @property\n",
    "    def account_name(self):\n",
    "        return self._account_name\n",
    "\n",
    "    @property\n",
    "    def balance(self):\n",
    "        return self._balance\n",
    "\n",
    "    @balance.setter\n",
    "    def balance(self, balance):\n",
    "        if balance >= 0:\n",
    "            self._balance = balance\n",
    "        else:\n",
    "            raise ValueError(\"Số dư phải lớn hơn 0\")\n",
    "\n",
    "    def display(self):\n",
    "        print(\n",
    "            f\"| {self.account_number:9} | {self.account_name:15} | {self.balance:>15} |\")\n",
    "\n",
    "    def withdraw(self, amount):\n",
    "        if 0 < amount <= self.balance - BankAccount.minimum_balance:\n",
    "            self.balance -= amount\n",
    "        else:\n",
    "            raise ValueError(\n",
    "                f\"Số tiền phải lớn hơn 0 và không được vượt quá số dư hiện tại\")\n",
    "\n",
    "    @classmethod\n",
    "    def from_json(cls, json_file):\n",
    "        accounts = []\n",
    "\n",
    "        with open(json_file,encoding='UTF-8') as file:\n",
    "            data = json.load(file)\n",
    "\n",
    "            for item in data:\n",
    "                accounts.append(cls(**item))\n",
    "\n",
    "        return accounts\n",
    "json_accounts = BankAccount.from_json(json_file)\n",
    "\n",
    "print(f\"| {'Number':9} | {'Account Name':15} | {'Balance':15} |\")\n",
    "print(f\"|{'-' * 11}|{ '-' * 17 }|{'-' * 17}|\")\n",
    "for account in json_accounts:\n",
    "    account.display()\n",
    "\n",
    "print()"
   ]
  },
  {
   "cell_type": "code",
   "execution_count": null,
   "metadata": {},
   "outputs": [],
   "source": [
    "#Bài 2\n"
   ]
  }
 ],
 "metadata": {
  "interpreter": {
   "hash": "04635d289a519a1410467dd0afb0db42f9184808881ca68b2eb5a687a20a5a94"
  },
  "kernelspec": {
   "display_name": "Python 3.7.8 64-bit",
   "name": "python3"
  },
  "language_info": {
   "codemirror_mode": {
    "name": "ipython",
    "version": 3
   },
   "file_extension": ".py",
   "mimetype": "text/x-python",
   "name": "python",
   "nbconvert_exporter": "python",
   "pygments_lexer": "ipython3",
   "version": "3.7.8"
  },
  "orig_nbformat": 4
 },
 "nbformat": 4,
 "nbformat_minor": 2
}
