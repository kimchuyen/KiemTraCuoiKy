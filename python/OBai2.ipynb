{
 "cells": [
  {
   "cell_type": "code",
   "execution_count": 50,
   "source": [
    "# bài 1\r\n",
    "import json\r\n",
    "\r\n",
    "json_file = \"bank_accounts.json\"\r\n",
    "\r\n",
    "class BankAccount:\r\n",
    "    def __init__(self, account_number, account_name, balance=0):\r\n",
    "        self._account_number = account_number\r\n",
    "        self._account_name = account_name\r\n",
    "        self.balance = balance\r\n",
    "\r\n",
    "    @property\r\n",
    "    def account_number(self):\r\n",
    "        return self._account_number\r\n",
    "\r\n",
    "    @property\r\n",
    "    def account_name(self):\r\n",
    "        return self._account_name\r\n",
    "\r\n",
    "    @property\r\n",
    "    def balance(self):\r\n",
    "        return self._balance\r\n",
    "\r\n",
    "    @balance.setter\r\n",
    "    def balance(self, balance):\r\n",
    "        if balance >= 0:\r\n",
    "            self._balance = balance\r\n",
    "        else:\r\n",
    "            raise ValueError(\"Số dư phải lớn hơn 0\")\r\n",
    "\r\n",
    "    def display(self):\r\n",
    "        print(\r\n",
    "            f\"| {self.account_number:9} | {self.account_name:15} | {self.balance:>15} |\")\r\n",
    "\r\n",
    "    def withdraw(self, amount):\r\n",
    "        if 0 < amount <= self.balance - BankAccount.minimum_balance:\r\n",
    "            self.balance -= amount\r\n",
    "        else:\r\n",
    "            raise ValueError(\r\n",
    "                f\"Số tiền phải lớn hơn 0 và không được vượt quá số dư hiện tại\")\r\n",
    "\r\n",
    "    @classmethod\r\n",
    "    def from_json(cls, json_file):\r\n",
    "        accounts = []\r\n",
    "\r\n",
    "        with open(json_file,encoding='UTF-8') as file:\r\n",
    "            data = json.load(file)\r\n",
    "\r\n",
    "            for item in data:\r\n",
    "                accounts.append(cls(**item))\r\n",
    "\r\n",
    "        return accounts\r\n",
    "json_accounts = BankAccount.from_json(json_file)\r\n",
    "\r\n",
    "print(f\"| {'Number':9} | {'Account Name':15} | {'Balance':15} |\")\r\n",
    "print(f\"|{'-' * 11}|{ '-' * 17 }|{'-' * 17}|\")\r\n",
    "for account in json_accounts:\r\n",
    "    account.display()\r\n",
    "\r\n",
    "print()"
   ],
   "outputs": [
    {
     "output_type": "stream",
     "name": "stdout",
     "text": [
      "| Number    | Account Name    | Balance         |\n",
      "|-----------|-----------------|-----------------|\n",
      "| 1         | Ba Nguyễn       |      1000000000 |\n",
      "| 2         | Béo Ú           |      2000000000 |\n",
      "\n"
     ]
    }
   ],
   "metadata": {}
  },
  {
   "cell_type": "code",
   "execution_count": null,
   "source": [
    "#Bài 2\r\n"
   ],
   "outputs": [],
   "metadata": {}
  }
 ],
 "metadata": {
  "orig_nbformat": 4,
  "language_info": {
   "name": "python",
   "version": "3.7.8",
   "mimetype": "text/x-python",
   "codemirror_mode": {
    "name": "ipython",
    "version": 3
   },
   "pygments_lexer": "ipython3",
   "nbconvert_exporter": "python",
   "file_extension": ".py"
  },
  "kernelspec": {
   "name": "python3",
   "display_name": "Python 3.7.8 64-bit"
  },
  "interpreter": {
   "hash": "04635d289a519a1410467dd0afb0db42f9184808881ca68b2eb5a687a20a5a94"
  }
 },
 "nbformat": 4,
 "nbformat_minor": 2
}